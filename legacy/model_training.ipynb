{
 "cells": [
  {
   "cell_type": "code",
   "execution_count": 1,
   "outputs": [],
   "source": [
    "import tensorflow as tf\n",
    "from data_prep import FireData, DistanceData\n",
    "from keras.callbacks import LearningRateScheduler\n",
    "from models import get_depth_estimation_model, get_fire_segmentation_model, dice_bce_loss, UNet, depth_loss_function\n",
    "from tqdm.auto import tqdm\n",
    "from typing import Callable\n",
    "import tensorflow_addons as tfa"
   ],
   "metadata": {
    "collapsed": false
   }
  },
  {
   "cell_type": "code",
   "execution_count": 2,
   "metadata": {},
   "outputs": [],
   "source": [
    "# Create a custom callback function to update the progress bar\n",
    "class ProgressCallback(tf.keras.callbacks.Callback):\n",
    "    def __init__(self, epochs, train_total, test_total):\n",
    "        super().__init__()\n",
    "        self.epochs = epochs\n",
    "        self.train_total = train_total\n",
    "        self.test_total = test_total\n",
    "        self.progress_bar = None\n",
    "\n",
    "    def on_epoch_begin(self, epoch, logs=None):\n",
    "        if logs: self.progress_bar.set_postfix(logs)\n",
    "        self.progress_bar = tqdm(total=self.train_total, unit=' batch', desc=f'Epoch {epoch:04}'.rjust(15))\n",
    "\n",
    "    def on_train_batch_end(self, batch, logs=None):\n",
    "        if logs: self.progress_bar.set_postfix(logs)\n",
    "        self.progress_bar.set_postfix(logs)\n",
    "        self.progress_bar.update()\n",
    "\n",
    "    def on_epoch_end(self, epoch, logs=None):\n",
    "        if logs: self.progress_bar.set_postfix(logs)\n",
    "        self.progress_bar.set_postfix(logs)\n",
    "        self.progress_bar.close()\n",
    "\n",
    "    def on_test_begin(self, logs=None):\n",
    "        self.progress_bar = tqdm(total=self.test_total, unit=' batch', desc=f'{\"Testing\".rjust(15)}')\n",
    "\n",
    "    def on_test_batch_end(self, batch, logs=None):\n",
    "        if logs: self.progress_bar.set_postfix(logs)\n",
    "        self.progress_bar.update()\n"
   ]
  },
  {
   "cell_type": "code",
   "execution_count": 3,
   "outputs": [],
   "source": [
    "import tensorflow as tf\n",
    "from keras.callbacks import Callback\n",
    "\n",
    "class LRDecayCallback(Callback):\n",
    "    def __init__(self, factor=0.1, patience=10, min_lr=1e-6):\n",
    "        super(LRDecayCallback, self).__init__()\n",
    "        self.factor = factor\n",
    "        self.patience = patience\n",
    "        self.min_lr = min_lr\n",
    "        self.loss_history = []\n",
    "        self.best_loss = float('inf')\n",
    "        self.counter = 0\n",
    "\n",
    "    def on_train_batch_end(self, batch, logs=None):\n",
    "        current_loss = logs.get('loss')\n",
    "        self.loss_history.append(current_loss)\n",
    "\n",
    "        if current_loss < self.best_loss:\n",
    "            self.best_loss = current_loss\n",
    "            self.counter = 0\n",
    "        else:\n",
    "            self.counter += 1\n",
    "            if self.counter >= self.patience:\n",
    "                lr = tf.keras.backend.get_value(self.model.optimizer.lr)\n",
    "                new_lr = max(lr * self.factor, self.min_lr)\n",
    "                tf.keras.backend.set_value(self.model.optimizer.lr, new_lr)\n",
    "                self.counter = 0\n",
    "\n"
   ],
   "metadata": {
    "collapsed": false
   }
  },
  {
   "cell_type": "code",
   "execution_count": 4,
   "outputs": [],
   "source": [
    "def training_loop(train_data: tf.keras.utils.Sequence,\n",
    "                  valid_data: tf.keras.utils.Sequence,\n",
    "                  epochs: int = 50,\n",
    "                  learning_rate: float = .0001,\n",
    "                  optimizer: tf.keras.optimizers.Optimizer = None,\n",
    "                  model: UNet = None,\n",
    "                  loss: list = None,\n",
    "                  learning_rate_scheduler: Callable = None,\n",
    "                  ):\n",
    "    if not optimizer:\n",
    "        optimizer = tf.keras.optimizers.Adam(learning_rate=learning_rate)\n",
    "    callbacks = [model.checkpoint_callback, model.tensor_board_callback,\n",
    "                 ProgressCallback(epochs=epochs, train_total=len(train_data), test_total=len(valid_data))]\n",
    "    if learning_rate_scheduler:\n",
    "        callbacks.append(LearningRateScheduler(learning_rate_schedule))\n",
    "    model.compile(optimizer=optimizer,\n",
    "                  metrics=[tfa.metrics.F1Score(num_classes=2),\n",
    "                           tf.keras.metrics.Precision(),\n",
    "                           tf.keras.metrics.AUC(),\n",
    "                           tf.keras.metrics.Accuracy()])\n",
    "\n",
    "    model.fit(train_data,\n",
    "              epochs=epochs,\n",
    "              validation_data=valid_data,\n",
    "              validation_steps=len(valid_data),\n",
    "              verbose=0,\n",
    "              callbacks=callbacks)\n"
   ],
   "metadata": {
    "collapsed": false
   }
  },
  {
   "cell_type": "code",
   "execution_count": 5,
   "outputs": [],
   "source": [
    "def learning_rate_schedule(epoch, _):\n",
    "    new_learning_rate = max(.0001 * .95 ** epoch, 1e-6)\n",
    "    return new_learning_rate"
   ],
   "metadata": {
    "collapsed": false
   }
  },
  {
   "cell_type": "code",
   "execution_count": 6,
   "metadata": {},
   "outputs": [],
   "source": [
    "# fire_detection_model = get_fire_segmentation_model(loss_function=tfa.losses.SigmoidFocalCrossEntropy())\n",
    "# training_loop(train_data=FireData(batch_size=16, split='train'),\n",
    "#               valid_data=FireData(batch_size=16, split='val'),\n",
    "#               model=fire_detection_model,\n",
    "#               learning_rate=.001,\n",
    "#               learning_rate_scheduler=learning_rate_schedule)\n"
   ]
  },
  {
   "cell_type": "code",
   "execution_count": 7,
   "metadata": {},
   "outputs": [],
   "source": [
    "# %load_ext tensorboard\n",
    "# %tensorboard --logdir 'Models/UNet Fire Segmentation/logs'"
   ]
  },
  {
   "cell_type": "code",
   "execution_count": 8,
   "metadata": {},
   "outputs": [
    {
     "data": {
      "text/plain": "     Epoch 0000:   0%|          | 0/3182 [00:00<?, ? batch/s]",
      "application/vnd.jupyter.widget-view+json": {
       "version_major": 2,
       "version_minor": 0,
       "model_id": "5d12c589895243ceb41c0f66cdca3248"
      }
     },
     "metadata": {},
     "output_type": "display_data"
    },
    {
     "data": {
      "text/plain": "        Testing:   0%|          | 0/96 [00:00<?, ? batch/s]",
      "application/vnd.jupyter.widget-view+json": {
       "version_major": 2,
       "version_minor": 0,
       "model_id": "36483aa046314b5db8ecced4fb1dfc86"
      }
     },
     "metadata": {},
     "output_type": "display_data"
    },
    {
     "data": {
      "text/plain": "     Epoch 0001:   0%|          | 0/3182 [00:00<?, ? batch/s]",
      "application/vnd.jupyter.widget-view+json": {
       "version_major": 2,
       "version_minor": 0,
       "model_id": "ddf4b0bd976d4b1a9ef3bfe2accbd53b"
      }
     },
     "metadata": {},
     "output_type": "display_data"
    },
    {
     "data": {
      "text/plain": "        Testing:   0%|          | 0/96 [00:00<?, ? batch/s]",
      "application/vnd.jupyter.widget-view+json": {
       "version_major": 2,
       "version_minor": 0,
       "model_id": "a5f5a6dbbbf043c6a6b849a774859e4e"
      }
     },
     "metadata": {},
     "output_type": "display_data"
    },
    {
     "data": {
      "text/plain": "     Epoch 0002:   0%|          | 0/3182 [00:00<?, ? batch/s]",
      "application/vnd.jupyter.widget-view+json": {
       "version_major": 2,
       "version_minor": 0,
       "model_id": "7e61a1ac9dd648cd812a6c85a417a0c4"
      }
     },
     "metadata": {},
     "output_type": "display_data"
    },
    {
     "data": {
      "text/plain": "        Testing:   0%|          | 0/96 [00:00<?, ? batch/s]",
      "application/vnd.jupyter.widget-view+json": {
       "version_major": 2,
       "version_minor": 0,
       "model_id": "97d7c41bf56c48cbb81ec2a0426b3d2e"
      }
     },
     "metadata": {},
     "output_type": "display_data"
    },
    {
     "data": {
      "text/plain": "     Epoch 0003:   0%|          | 0/3182 [00:00<?, ? batch/s]",
      "application/vnd.jupyter.widget-view+json": {
       "version_major": 2,
       "version_minor": 0,
       "model_id": "1ebb0ab3aed74ab185dc7f47d27411d4"
      }
     },
     "metadata": {},
     "output_type": "display_data"
    },
    {
     "data": {
      "text/plain": "        Testing:   0%|          | 0/96 [00:00<?, ? batch/s]",
      "application/vnd.jupyter.widget-view+json": {
       "version_major": 2,
       "version_minor": 0,
       "model_id": "e647b45b9f724835a166196bef90e24d"
      }
     },
     "metadata": {},
     "output_type": "display_data"
    },
    {
     "data": {
      "text/plain": "     Epoch 0004:   0%|          | 0/3182 [00:00<?, ? batch/s]",
      "application/vnd.jupyter.widget-view+json": {
       "version_major": 2,
       "version_minor": 0,
       "model_id": "71fa29f1b5d7443ab91fb99302e2117d"
      }
     },
     "metadata": {},
     "output_type": "display_data"
    },
    {
     "data": {
      "text/plain": "        Testing:   0%|          | 0/96 [00:00<?, ? batch/s]",
      "application/vnd.jupyter.widget-view+json": {
       "version_major": 2,
       "version_minor": 0,
       "model_id": "d78001456fa242d7ae025fd0a15ae669"
      }
     },
     "metadata": {},
     "output_type": "display_data"
    }
   ],
   "source": [
    "batch_size = 8\n",
    "depth_estimation_model = get_depth_estimation_model(loss_function=depth_loss_function)\n",
    "train_data = DistanceData(batch_size=batch_size, split='train', height=512, width=384)\n",
    "valid_data = DistanceData(batch_size=batch_size, split='val', height=512, width=384)\n",
    "training_loop(train_data=train_data,\n",
    "              valid_data=valid_data,\n",
    "              model=depth_estimation_model,\n",
    "              epochs=5,\n",
    "              learning_rate=.00001,\n",
    "              learning_rate_scheduler=learning_rate_schedule)"
   ]
  },
  {
   "cell_type": "code",
   "execution_count": 9,
   "outputs": [
    {
     "data": {
      "text/plain": "Launching TensorBoard..."
     },
     "metadata": {},
     "output_type": "display_data"
    }
   ],
   "source": [
    "%load_ext tensorboard\n",
    "%tensorboard --logdir 'Models/UNet Depth Estimation/logs'"
   ],
   "metadata": {
    "collapsed": false
   }
  },
  {
   "cell_type": "code",
   "execution_count": null,
   "outputs": [],
   "source": [],
   "metadata": {
    "collapsed": false
   }
  }
 ],
 "metadata": {
  "kernelspec": {
   "display_name": "Python 3 (ipykernel)",
   "language": "python",
   "name": "python3"
  },
  "language_info": {
   "codemirror_mode": {
    "name": "ipython",
    "version": 3
   },
   "file_extension": ".py",
   "mimetype": "text/x-python",
   "name": "python",
   "nbconvert_exporter": "python",
   "pygments_lexer": "ipython3",
   "version": "3.8.15"
  }
 },
 "nbformat": 4,
 "nbformat_minor": 1
}
