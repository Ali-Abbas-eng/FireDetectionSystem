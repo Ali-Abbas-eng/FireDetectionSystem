{
 "cells": [
  {
   "cell_type": "code",
   "execution_count": 1,
   "metadata": {},
   "outputs": [],
   "source": [
    "from models import get_depth_estimation_model, get_fire_segmentation_model, dice_bce_loss\n",
    "import tensorflow as tf\n",
    "from tqdm.auto import tqdm"
   ]
  },
  {
   "cell_type": "code",
   "execution_count": 6,
   "metadata": {},
   "outputs": [
    {
     "name": "stdout",
     "output_type": "stream",
     "text": [
      "The tensorboard extension is already loaded. To reload it, use:\n",
      "  %reload_ext tensorboard\n"
     ]
    }
   ],
   "source": [
    "%load_ext tensorboard"
   ]
  },
  {
   "cell_type": "code",
   "execution_count": 3,
   "metadata": {},
   "outputs": [],
   "source": [
    "# Create a custom callback function to update the progress bar\n",
    "class ProgressCallback(tf.keras.callbacks.Callback):\n",
    "    def __init__(self, epochs, train_total, test_total):\n",
    "        super().__init__()\n",
    "        self.epochs = epochs\n",
    "        self.train_total = train_total\n",
    "        self.test_total = test_total\n",
    "        self.progress_bar = None\n",
    "\n",
    "    def on_epoch_begin(self, epoch, logs=None):\n",
    "        if logs: self.progress_bar.set_postfix(logs)\n",
    "        self.progress_bar = tqdm(total=self.train_total, unit=' batch', desc=f'Epoch {epoch:04}'.rjust(15))\n",
    "\n",
    "    def on_train_batch_end(self, batch, logs=None):\n",
    "        if logs: self.progress_bar.set_postfix(logs)\n",
    "        self.progress_bar.set_postfix(logs)\n",
    "        self.progress_bar.update()\n",
    "\n",
    "    def on_epoch_end(self, epoch, logs=None):\n",
    "        if logs: self.progress_bar.set_postfix(logs)\n",
    "        self.progress_bar.set_postfix(logs)\n",
    "        self.progress_bar.close()\n",
    "\n",
    "    def on_test_begin(self, logs=None):\n",
    "        self.progress_bar = tqdm(total=self.test_total, unit=' batch', desc=f'{\"Testing\".rjust(15)}')\n",
    "\n",
    "    def on_test_batch_end(self, batch, logs=None):\n",
    "        if logs: self.progress_bar.set_postfix(logs)\n",
    "        self.progress_bar.update()"
   ]
  },
  {
   "cell_type": "code",
   "execution_count": 4,
   "metadata": {},
   "outputs": [
    {
     "data": {
      "application/vnd.jupyter.widget-view+json": {
       "model_id": "60afa4ebf7e54657bdcd4bd922dabd22",
       "version_major": 2,
       "version_minor": 0
      },
      "text/plain": [
       "     Epoch 0000:   0%|          | 0/1373 [00:00<?, ? batch/s]"
      ]
     },
     "metadata": {},
     "output_type": "display_data"
    },
    {
     "name": "stdout",
     "output_type": "stream",
     "text": [
      "WARNING:tensorflow:Callback method `on_train_batch_end` is slow compared to the batch time (batch time: 0.5657s vs `on_train_batch_end` time: 0.5870s). Check your callbacks.\n"
     ]
    },
    {
     "data": {
      "application/vnd.jupyter.widget-view+json": {
       "model_id": "ce1ecef135f64f1eac48f17a4b6608f3",
       "version_major": 2,
       "version_minor": 0
      },
      "text/plain": [
       "        Testing:   0%|          | 0/343 [00:00<?, ? batch/s]"
      ]
     },
     "metadata": {},
     "output_type": "display_data"
    },
    {
     "data": {
      "application/vnd.jupyter.widget-view+json": {
       "model_id": "4b2c31333d214e7db77e1c11d1420c80",
       "version_major": 2,
       "version_minor": 0
      },
      "text/plain": [
       "     Epoch 0001:   0%|          | 0/1373 [00:00<?, ? batch/s]"
      ]
     },
     "metadata": {},
     "output_type": "display_data"
    },
    {
     "data": {
      "application/vnd.jupyter.widget-view+json": {
       "model_id": "f8b2a561f6e64eb5b11bdfbdb45eef9b",
       "version_major": 2,
       "version_minor": 0
      },
      "text/plain": [
       "        Testing:   0%|          | 0/343 [00:00<?, ? batch/s]"
      ]
     },
     "metadata": {},
     "output_type": "display_data"
    },
    {
     "data": {
      "application/vnd.jupyter.widget-view+json": {
       "model_id": "8fc306350b044ad494249ffa498e381b",
       "version_major": 2,
       "version_minor": 0
      },
      "text/plain": [
       "     Epoch 0002:   0%|          | 0/1373 [00:00<?, ? batch/s]"
      ]
     },
     "metadata": {},
     "output_type": "display_data"
    },
    {
     "data": {
      "application/vnd.jupyter.widget-view+json": {
       "model_id": "87be3a16b9d9429ab19456a6f2a2c615",
       "version_major": 2,
       "version_minor": 0
      },
      "text/plain": [
       "        Testing:   0%|          | 0/343 [00:00<?, ? batch/s]"
      ]
     },
     "metadata": {},
     "output_type": "display_data"
    },
    {
     "data": {
      "application/vnd.jupyter.widget-view+json": {
       "model_id": "478462db6144464c9e6c2236a1394d6f",
       "version_major": 2,
       "version_minor": 0
      },
      "text/plain": [
       "     Epoch 0003:   0%|          | 0/1373 [00:00<?, ? batch/s]"
      ]
     },
     "metadata": {},
     "output_type": "display_data"
    },
    {
     "data": {
      "application/vnd.jupyter.widget-view+json": {
       "model_id": "35a5a1a8c71849e0a1a3734390399279",
       "version_major": 2,
       "version_minor": 0
      },
      "text/plain": [
       "        Testing:   0%|          | 0/343 [00:00<?, ? batch/s]"
      ]
     },
     "metadata": {},
     "output_type": "display_data"
    },
    {
     "data": {
      "application/vnd.jupyter.widget-view+json": {
       "model_id": "85b1a787a23045b194c3b18bcdb61901",
       "version_major": 2,
       "version_minor": 0
      },
      "text/plain": [
       "     Epoch 0004:   0%|          | 0/1373 [00:00<?, ? batch/s]"
      ]
     },
     "metadata": {},
     "output_type": "display_data"
    },
    {
     "data": {
      "application/vnd.jupyter.widget-view+json": {
       "model_id": "c28977f6afe949b09e3069f7ca6ae4a0",
       "version_major": 2,
       "version_minor": 0
      },
      "text/plain": [
       "        Testing:   0%|          | 0/343 [00:00<?, ? batch/s]"
      ]
     },
     "metadata": {},
     "output_type": "display_data"
    },
    {
     "data": {
      "application/vnd.jupyter.widget-view+json": {
       "model_id": "efb490c574a84500b349f23a401d29db",
       "version_major": 2,
       "version_minor": 0
      },
      "text/plain": [
       "     Epoch 0005:   0%|          | 0/1373 [00:00<?, ? batch/s]"
      ]
     },
     "metadata": {},
     "output_type": "display_data"
    },
    {
     "data": {
      "application/vnd.jupyter.widget-view+json": {
       "model_id": "ea02a90ee7a6402b8f2ba000019486ba",
       "version_major": 2,
       "version_minor": 0
      },
      "text/plain": [
       "        Testing:   0%|          | 0/343 [00:00<?, ? batch/s]"
      ]
     },
     "metadata": {},
     "output_type": "display_data"
    },
    {
     "data": {
      "application/vnd.jupyter.widget-view+json": {
       "model_id": "27a772c496fe44fab9f5f9ea3f446047",
       "version_major": 2,
       "version_minor": 0
      },
      "text/plain": [
       "     Epoch 0006:   0%|          | 0/1373 [00:00<?, ? batch/s]"
      ]
     },
     "metadata": {},
     "output_type": "display_data"
    },
    {
     "data": {
      "application/vnd.jupyter.widget-view+json": {
       "model_id": "1dbac346a2c340789183626384e39578",
       "version_major": 2,
       "version_minor": 0
      },
      "text/plain": [
       "        Testing:   0%|          | 0/343 [00:00<?, ? batch/s]"
      ]
     },
     "metadata": {},
     "output_type": "display_data"
    },
    {
     "data": {
      "application/vnd.jupyter.widget-view+json": {
       "model_id": "95bd5645b02b466fb8196973c65f964b",
       "version_major": 2,
       "version_minor": 0
      },
      "text/plain": [
       "     Epoch 0007:   0%|          | 0/1373 [00:00<?, ? batch/s]"
      ]
     },
     "metadata": {},
     "output_type": "display_data"
    },
    {
     "data": {
      "application/vnd.jupyter.widget-view+json": {
       "model_id": "d33c91138d5048cc84135654d3a9d25a",
       "version_major": 2,
       "version_minor": 0
      },
      "text/plain": [
       "        Testing:   0%|          | 0/343 [00:00<?, ? batch/s]"
      ]
     },
     "metadata": {},
     "output_type": "display_data"
    },
    {
     "data": {
      "application/vnd.jupyter.widget-view+json": {
       "model_id": "f2200615a953429e82246621d15098d5",
       "version_major": 2,
       "version_minor": 0
      },
      "text/plain": [
       "     Epoch 0008:   0%|          | 0/1373 [00:00<?, ? batch/s]"
      ]
     },
     "metadata": {},
     "output_type": "display_data"
    },
    {
     "data": {
      "application/vnd.jupyter.widget-view+json": {
       "model_id": "98172772e40540acabcc59331c32e1f8",
       "version_major": 2,
       "version_minor": 0
      },
      "text/plain": [
       "        Testing:   0%|          | 0/343 [00:00<?, ? batch/s]"
      ]
     },
     "metadata": {},
     "output_type": "display_data"
    },
    {
     "data": {
      "application/vnd.jupyter.widget-view+json": {
       "model_id": "2ac4c6e43037463b8b9b491875801a1f",
       "version_major": 2,
       "version_minor": 0
      },
      "text/plain": [
       "     Epoch 0009:   0%|          | 0/1373 [00:00<?, ? batch/s]"
      ]
     },
     "metadata": {},
     "output_type": "display_data"
    },
    {
     "data": {
      "application/vnd.jupyter.widget-view+json": {
       "model_id": "e551c14837a04e0dafaf7b18c3ffb56f",
       "version_major": 2,
       "version_minor": 0
      },
      "text/plain": [
       "        Testing:   0%|          | 0/343 [00:00<?, ? batch/s]"
      ]
     },
     "metadata": {},
     "output_type": "display_data"
    },
    {
     "data": {
      "application/vnd.jupyter.widget-view+json": {
       "model_id": "93d9109758c14b3ab0f3f866bf246a10",
       "version_major": 2,
       "version_minor": 0
      },
      "text/plain": [
       "     Epoch 0010:   0%|          | 0/1373 [00:00<?, ? batch/s]"
      ]
     },
     "metadata": {},
     "output_type": "display_data"
    },
    {
     "data": {
      "application/vnd.jupyter.widget-view+json": {
       "model_id": "9fcb2787956b4ecfb94d90878627262a",
       "version_major": 2,
       "version_minor": 0
      },
      "text/plain": [
       "        Testing:   0%|          | 0/343 [00:00<?, ? batch/s]"
      ]
     },
     "metadata": {},
     "output_type": "display_data"
    },
    {
     "data": {
      "application/vnd.jupyter.widget-view+json": {
       "model_id": "3d5693d11aca4a73af5ac95810fb702b",
       "version_major": 2,
       "version_minor": 0
      },
      "text/plain": [
       "     Epoch 0011:   0%|          | 0/1373 [00:00<?, ? batch/s]"
      ]
     },
     "metadata": {},
     "output_type": "display_data"
    },
    {
     "data": {
      "application/vnd.jupyter.widget-view+json": {
       "model_id": "de23e3a3624a4361bb77900a6367ef06",
       "version_major": 2,
       "version_minor": 0
      },
      "text/plain": [
       "        Testing:   0%|          | 0/343 [00:00<?, ? batch/s]"
      ]
     },
     "metadata": {},
     "output_type": "display_data"
    },
    {
     "data": {
      "application/vnd.jupyter.widget-view+json": {
       "model_id": "9c0b6e9c52a5462990590f403004fe2e",
       "version_major": 2,
       "version_minor": 0
      },
      "text/plain": [
       "     Epoch 0012:   0%|          | 0/1373 [00:00<?, ? batch/s]"
      ]
     },
     "metadata": {},
     "output_type": "display_data"
    },
    {
     "data": {
      "application/vnd.jupyter.widget-view+json": {
       "model_id": "eb51dcf22eb9481e900fbec8c566844e",
       "version_major": 2,
       "version_minor": 0
      },
      "text/plain": [
       "        Testing:   0%|          | 0/343 [00:00<?, ? batch/s]"
      ]
     },
     "metadata": {},
     "output_type": "display_data"
    },
    {
     "data": {
      "application/vnd.jupyter.widget-view+json": {
       "model_id": "a8eb0410c9d043d3834d938860db9332",
       "version_major": 2,
       "version_minor": 0
      },
      "text/plain": [
       "     Epoch 0013:   0%|          | 0/1373 [00:00<?, ? batch/s]"
      ]
     },
     "metadata": {},
     "output_type": "display_data"
    },
    {
     "data": {
      "application/vnd.jupyter.widget-view+json": {
       "model_id": "eca9be55c73a4c1fa488569c3e7c4434",
       "version_major": 2,
       "version_minor": 0
      },
      "text/plain": [
       "        Testing:   0%|          | 0/343 [00:00<?, ? batch/s]"
      ]
     },
     "metadata": {},
     "output_type": "display_data"
    },
    {
     "data": {
      "application/vnd.jupyter.widget-view+json": {
       "model_id": "2c60c2cdb459462883cd2dbbd62a2880",
       "version_major": 2,
       "version_minor": 0
      },
      "text/plain": [
       "     Epoch 0014:   0%|          | 0/1373 [00:00<?, ? batch/s]"
      ]
     },
     "metadata": {},
     "output_type": "display_data"
    },
    {
     "data": {
      "application/vnd.jupyter.widget-view+json": {
       "model_id": "7e3f54953b9e44d89d7625ee9838fc63",
       "version_major": 2,
       "version_minor": 0
      },
      "text/plain": [
       "        Testing:   0%|          | 0/343 [00:00<?, ? batch/s]"
      ]
     },
     "metadata": {},
     "output_type": "display_data"
    },
    {
     "data": {
      "application/vnd.jupyter.widget-view+json": {
       "model_id": "08c994d949434f8e930c70877bf166f5",
       "version_major": 2,
       "version_minor": 0
      },
      "text/plain": [
       "     Epoch 0015:   0%|          | 0/1373 [00:00<?, ? batch/s]"
      ]
     },
     "metadata": {},
     "output_type": "display_data"
    },
    {
     "data": {
      "application/vnd.jupyter.widget-view+json": {
       "model_id": "e6b8d229359946dcb2ca6c9267f35f03",
       "version_major": 2,
       "version_minor": 0
      },
      "text/plain": [
       "        Testing:   0%|          | 0/343 [00:00<?, ? batch/s]"
      ]
     },
     "metadata": {},
     "output_type": "display_data"
    },
    {
     "data": {
      "application/vnd.jupyter.widget-view+json": {
       "model_id": "445b49e17539466ba0ed16089c753bbd",
       "version_major": 2,
       "version_minor": 0
      },
      "text/plain": [
       "     Epoch 0016:   0%|          | 0/1373 [00:00<?, ? batch/s]"
      ]
     },
     "metadata": {},
     "output_type": "display_data"
    },
    {
     "data": {
      "application/vnd.jupyter.widget-view+json": {
       "model_id": "b62eb9edb5d042008f0ccbdff0fcecc0",
       "version_major": 2,
       "version_minor": 0
      },
      "text/plain": [
       "        Testing:   0%|          | 0/343 [00:00<?, ? batch/s]"
      ]
     },
     "metadata": {},
     "output_type": "display_data"
    },
    {
     "data": {
      "application/vnd.jupyter.widget-view+json": {
       "model_id": "a72580d1607949b394c34c2ba118cef5",
       "version_major": 2,
       "version_minor": 0
      },
      "text/plain": [
       "     Epoch 0017:   0%|          | 0/1373 [00:00<?, ? batch/s]"
      ]
     },
     "metadata": {},
     "output_type": "display_data"
    },
    {
     "data": {
      "application/vnd.jupyter.widget-view+json": {
       "model_id": "9a4bb8897b034421b80750f9d1b6c92d",
       "version_major": 2,
       "version_minor": 0
      },
      "text/plain": [
       "        Testing:   0%|          | 0/343 [00:00<?, ? batch/s]"
      ]
     },
     "metadata": {},
     "output_type": "display_data"
    },
    {
     "data": {
      "application/vnd.jupyter.widget-view+json": {
       "model_id": "c2ce3d11fb7a41c089e74510259d2e89",
       "version_major": 2,
       "version_minor": 0
      },
      "text/plain": [
       "     Epoch 0018:   0%|          | 0/1373 [00:00<?, ? batch/s]"
      ]
     },
     "metadata": {},
     "output_type": "display_data"
    },
    {
     "data": {
      "application/vnd.jupyter.widget-view+json": {
       "model_id": "44fb71dac5354e6fa76e1b4f008de8d6",
       "version_major": 2,
       "version_minor": 0
      },
      "text/plain": [
       "        Testing:   0%|          | 0/343 [00:00<?, ? batch/s]"
      ]
     },
     "metadata": {},
     "output_type": "display_data"
    },
    {
     "data": {
      "application/vnd.jupyter.widget-view+json": {
       "model_id": "9dc7be1fdb944874a42d4516800d8795",
       "version_major": 2,
       "version_minor": 0
      },
      "text/plain": [
       "     Epoch 0019:   0%|          | 0/1373 [00:00<?, ? batch/s]"
      ]
     },
     "metadata": {},
     "output_type": "display_data"
    },
    {
     "data": {
      "application/vnd.jupyter.widget-view+json": {
       "model_id": "b048d6626b864efbb16f865f02209b37",
       "version_major": 2,
       "version_minor": 0
      },
      "text/plain": [
       "        Testing:   0%|          | 0/343 [00:00<?, ? batch/s]"
      ]
     },
     "metadata": {},
     "output_type": "display_data"
    },
    {
     "data": {
      "text/plain": [
       "<keras.callbacks.History at 0x24e5f804dc0>"
      ]
     },
     "execution_count": 4,
     "metadata": {},
     "output_type": "execute_result"
    }
   ],
   "source": [
    "import tensorflow as tf\n",
    "from data_prep import FireData\n",
    "from keras.callbacks import LearningRateScheduler\n",
    "\n",
    "\n",
    "def learning_rate_schedule(epoch, learning_rate):\n",
    "    new_learning_rate = max(learning_rate * .95, 1e-7)\n",
    "    return new_learning_rate\n",
    "\n",
    "lr_scheduler = LearningRateScheduler(learning_rate_schedule)\n",
    "\n",
    "EPOCHS = 20\n",
    "BATCH_SIZE = 16\n",
    "LEARNING_RATE = 0.0001\n",
    "optimizer = tf.keras.optimizers.Adam(\n",
    "    learning_rate=LEARNING_RATE,\n",
    "    amsgrad=False,\n",
    ")\n",
    "model = get_fire_segmentation_model(loss_function=dice_bce_loss)\n",
    "\n",
    "# Compile the model\n",
    "model.compile(optimizer=tf.keras.optimizers.Adam(learning_rate=LEARNING_RATE, amsgrad=False),\n",
    "              metrics=tf.keras.metrics.MeanAbsoluteError())\n",
    "train_loader = FireData(split='train', batch_size=BATCH_SIZE)\n",
    "valid_loader = FireData(split='val', batch_size=BATCH_SIZE)\n",
    "model.fit(\n",
    "    train_loader,\n",
    "    epochs=EPOCHS,\n",
    "    validation_data=valid_loader,\n",
    "    validation_steps=len(valid_loader),\n",
    "    verbose=0,\n",
    "    callbacks=[model.checkpoint_callback,\n",
    "               model.tensor_board_callback,\n",
    "               ProgressCallback(epochs=EPOCHS, train_total=len(train_loader), test_total=len(valid_loader)),\n",
    "               lr_scheduler]\n",
    ")\n"
   ]
  },
  {
   "cell_type": "code",
   "execution_count": 7,
   "metadata": {},
   "outputs": [
    {
     "data": {
      "text/plain": [
       "Reusing TensorBoard on port 6006 (pid 4244), started 0:04:23 ago. (Use '!kill 4244' to kill it.)"
      ]
     },
     "metadata": {},
     "output_type": "display_data"
    },
    {
     "data": {
      "text/html": [
       "\n",
       "      <iframe id=\"tensorboard-frame-40c0b23ab7910c42\" width=\"100%\" height=\"800\" frameborder=\"0\">\n",
       "      </iframe>\n",
       "      <script>\n",
       "        (function() {\n",
       "          const frame = document.getElementById(\"tensorboard-frame-40c0b23ab7910c42\");\n",
       "          const url = new URL(\"/\", window.location);\n",
       "          const port = 6006;\n",
       "          if (port) {\n",
       "            url.port = port;\n",
       "          }\n",
       "          frame.src = url;\n",
       "        })();\n",
       "      </script>\n",
       "    "
      ],
      "text/plain": [
       "<IPython.core.display.HTML object>"
      ]
     },
     "metadata": {},
     "output_type": "display_data"
    }
   ],
   "source": [
    "%tensorboard --logdir 'Models/UNet Fire Segmentation/logs'"
   ]
  },
  {
   "cell_type": "code",
   "execution_count": null,
   "metadata": {},
   "outputs": [],
   "source": []
  }
 ],
 "metadata": {
  "kernelspec": {
   "display_name": "Python 3 (ipykernel)",
   "language": "python",
   "name": "python3"
  },
  "language_info": {
   "codemirror_mode": {
    "name": "ipython",
    "version": 3
   },
   "file_extension": ".py",
   "mimetype": "text/x-python",
   "name": "python",
   "nbconvert_exporter": "python",
   "pygments_lexer": "ipython3",
   "version": "3.8.15"
  }
 },
 "nbformat": 4,
 "nbformat_minor": 1
}
