{
 "cells": [
  {
   "cell_type": "code",
   "execution_count": 1,
   "outputs": [],
   "source": [
    "from models import get_depth_estimation_model, get_fire_segmentation_model\n",
    "import os\n",
    "import numpy as np"
   ],
   "metadata": {
    "collapsed": false
   }
  },
  {
   "cell_type": "code",
   "execution_count": 2,
   "metadata": {},
   "outputs": [],
   "source": [
    "%load_ext tensorboard"
   ]
  },
  {
   "cell_type": "code",
   "execution_count": 3,
   "outputs": [
    {
     "name": "stdout",
     "output_type": "stream",
     "text": [
      "Epoch 1/2\n",
      "1373/1373 [==============================] - 257s 183ms/step - loss: 1.5898e-04 - val_loss: 7.8196e-05 - lr: 4.7500e-04\n",
      "Epoch 2/2\n",
      "1373/1373 [==============================] - 251s 183ms/step - loss: 6.7247e-05 - val_loss: 6.1514e-05 - lr: 4.5125e-04\n"
     ]
    },
    {
     "data": {
      "text/plain": "<keras.callbacks.History at 0x1ce7f073bb0>"
     },
     "execution_count": 3,
     "metadata": {},
     "output_type": "execute_result"
    }
   ],
   "source": [
    "import tensorflow as tf\n",
    "from data_prep import FireData\n",
    "from keras.callbacks import LearningRateScheduler\n",
    "\n",
    "\n",
    "def learning_rate_schedule(epoch, learning_rate):\n",
    "    new_learning_rate = max(learning_rate * .95, 1e-7)\n",
    "    return new_learning_rate\n",
    "\n",
    "lr_scheduler = LearningRateScheduler(learning_rate_schedule)\n",
    "\n",
    "EPOCHS = 2\n",
    "BATCH_SIZE = 16\n",
    "LEARNING_RATE = 0.0005\n",
    "optimizer = tf.keras.optimizers.Adam(\n",
    "    learning_rate=LEARNING_RATE,\n",
    "    amsgrad=False,\n",
    ")\n",
    "model = get_fire_segmentation_model()\n",
    "model(np.random.normal(size=(2, 256, 256, 3)))\n",
    "if os.path.isfile(model.file_path):\n",
    "    model.load_weights(model.file_path)\n",
    "# Compile the model\n",
    "model.compile(optimizer=tf.keras.optimizers.Adam(learning_rate=LEARNING_RATE, amsgrad=False),\n",
    "              metrics=tf.keras.metrics.MeanAbsoluteError())\n",
    "train_loader = FireData(split='train', batch_size=BATCH_SIZE)\n",
    "valid_loader = FireData(split='valid', batch_size=BATCH_SIZE)\n",
    "model.fit(\n",
    "    train_loader,\n",
    "    epochs=EPOCHS,\n",
    "    validation_data=valid_loader,\n",
    "    validation_steps=len(valid_loader),\n",
    "    callbacks=[model.checkpoint_callback,\n",
    "               model.tensor_board_callback,\n",
    "               lr_scheduler]\n",
    ")\n"
   ],
   "metadata": {
    "collapsed": false
   }
  },
  {
   "cell_type": "code",
   "execution_count": null,
   "outputs": [],
   "source": [
    "%tensorboard --logdir 'Models/UNet Fire Segmentation/logs'"
   ],
   "metadata": {
    "collapsed": false
   }
  },
  {
   "cell_type": "code",
   "execution_count": 4,
   "metadata": {},
   "outputs": [
    {
     "name": "stdout",
     "output_type": "stream",
     "text": [
      "Epoch 1/2\n",
      "6364/6364 [==============================] - 1717s 269ms/step - loss: 0.5443 - val_loss: 0.4186 - lr: 4.7500e-04\n",
      "Epoch 2/2\n",
      "6364/6364 [==============================] - 1701s 267ms/step - loss: 0.5015 - val_loss: 0.3996 - lr: 4.5125e-04\n"
     ]
    },
    {
     "data": {
      "text/plain": "<keras.callbacks.History at 0x1ce7f4fa7c0>"
     },
     "execution_count": 4,
     "metadata": {},
     "output_type": "execute_result"
    }
   ],
   "source": [
    "import tensorflow as tf\n",
    "from data_prep import DistanceData\n",
    "from keras.callbacks import LearningRateScheduler\n",
    "\n",
    "\n",
    "def learning_rate_schedule(epoch, learning_rate):\n",
    "    new_learning_rate = max(learning_rate * .95, 1e-7)\n",
    "    return new_learning_rate\n",
    "\n",
    "lr_scheduler = LearningRateScheduler(learning_rate_schedule)\n",
    "\n",
    "EPOCHS = 2\n",
    "BATCH_SIZE = 4\n",
    "LEARNING_RATE = 0.0005\n",
    "HEIGHT = 1024 // 8\n",
    "WIDTH = 768 // 8\n",
    "optimizer = tf.keras.optimizers.Adam(\n",
    "    learning_rate=LEARNING_RATE,\n",
    "    amsgrad=False,\n",
    ")\n",
    "model = get_depth_estimation_model()\n",
    "# Define the loss function\n",
    "cross_entropy = tf.keras.losses.SparseCategoricalCrossentropy(\n",
    "    from_logits=True, reduction=\"none\"\n",
    ")\n",
    "# Compile the model\n",
    "model.compile(optimizer=tf.keras.optimizers.Adam(learning_rate=LEARNING_RATE, amsgrad=False),\n",
    "              metrics=tf.keras.metrics.MeanAbsoluteError())\n",
    "train_loader = DistanceData(split='train', batch_size=BATCH_SIZE, height=HEIGHT, width=WIDTH)\n",
    "valid_loader = DistanceData(split='val', batch_size=BATCH_SIZE, height=HEIGHT, width=WIDTH)\n",
    "model.fit(\n",
    "    train_loader,\n",
    "    epochs=EPOCHS,\n",
    "    validation_data=valid_loader,\n",
    "    validation_steps=len(valid_loader),\n",
    "    callbacks=[model.checkpoint_callback,\n",
    "               model.tensor_board_callback,\n",
    "               lr_scheduler]\n",
    ")\n"
   ]
  },
  {
   "cell_type": "code",
   "execution_count": null,
   "metadata": {},
   "outputs": [],
   "source": [
    "%tensorboard --logdir 'Models/UNet Depth Estimation/logs'"
   ]
  }
 ],
 "metadata": {
  "kernelspec": {
   "display_name": "Python 3 (ipykernel)",
   "language": "python",
   "name": "python3"
  },
  "language_info": {
   "codemirror_mode": {
    "name": "ipython",
    "version": 3
   },
   "file_extension": ".py",
   "mimetype": "text/x-python",
   "name": "python",
   "nbconvert_exporter": "python",
   "pygments_lexer": "ipython3",
   "version": "3.8.15"
  }
 },
 "nbformat": 4,
 "nbformat_minor": 1
}
