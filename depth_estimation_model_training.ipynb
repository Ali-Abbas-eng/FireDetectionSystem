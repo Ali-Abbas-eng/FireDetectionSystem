{
 "cells": [
  {
   "cell_type": "code",
   "execution_count": null,
   "outputs": [],
   "source": [
    "import tensorflow as tf\n",
    "from data_prep import FireData, DistanceData\n",
    "from keras.callbacks import LearningRateScheduler\n",
    "from models import get_depth_estimation_model, get_fire_segmentation_model, dice_bce_loss, UNet, depth_loss_function\n",
    "from tqdm.auto import tqdm\n",
    "from typing import Callable\n",
    "import tensorflow_addons as tfa"
   ],
   "metadata": {
    "collapsed": false
   }
  },
  {
   "cell_type": "code",
   "execution_count": null,
   "metadata": {},
   "outputs": [],
   "source": [
    "%load_ext tensorboard"
   ]
  },
  {
   "cell_type": "code",
   "execution_count": null,
   "metadata": {},
   "outputs": [],
   "source": [
    "# Create a custom callback function to update the progress bar\n",
    "class ProgressCallback(tf.keras.callbacks.Callback):\n",
    "    def __init__(self, epochs, train_total, test_total):\n",
    "        super().__init__()\n",
    "        self.epochs = epochs\n",
    "        self.train_total = train_total\n",
    "        self.test_total = test_total\n",
    "        self.progress_bar = None\n",
    "\n",
    "    def on_epoch_begin(self, epoch, logs=None):\n",
    "        if logs: self.progress_bar.set_postfix(logs)\n",
    "        self.progress_bar = tqdm(total=self.train_total, unit=' batch', desc=f'Epoch {epoch:04}'.rjust(15))\n",
    "\n",
    "    def on_train_batch_end(self, batch, logs=None):\n",
    "        if logs: self.progress_bar.set_postfix(logs)\n",
    "        self.progress_bar.set_postfix(logs)\n",
    "        self.progress_bar.update()\n",
    "\n",
    "    def on_epoch_end(self, epoch, logs=None):\n",
    "        if logs: self.progress_bar.set_postfix(logs)\n",
    "        self.progress_bar.set_postfix(logs)\n",
    "        self.progress_bar.close()\n",
    "\n",
    "    def on_test_begin(self, logs=None):\n",
    "        self.progress_bar = tqdm(total=self.test_total, unit=' batch', desc=f'{\"Testing\".rjust(15)}')\n",
    "\n",
    "    def on_test_batch_end(self, batch, logs=None):\n",
    "        if logs: self.progress_bar.set_postfix(logs)\n",
    "        self.progress_bar.update()\n"
   ]
  },
  {
   "cell_type": "code",
   "execution_count": null,
   "outputs": [],
   "source": [
    "def training_loop(train_data: tf.keras.utils.Sequence,\n",
    "                  valid_data: tf.keras.utils.Sequence,\n",
    "                  epochs: int = 20,\n",
    "                  learning_rate: float = .0001,\n",
    "                  optimizer: tf.keras.optimizers.Optimizer = None,\n",
    "                  model: UNet = None,\n",
    "                  learning_rate_scheduler: Callable = None,\n",
    "                  ):\n",
    "    if not optimizer:\n",
    "        optimizer = tf.keras.optimizers.Adam(learning_rate=learning_rate)\n",
    "    model.compile(optimizer=optimizer,\n",
    "                  metrics=[tfa.metrics.F1Score(),\n",
    "                           tf.keras.metrics.Precision(),\n",
    "                           tf.keras.metrics.AUC(),\n",
    "                           tf.keras.metrics.Accuracy()])\n",
    "    callbacks = [model.checkpoint_callback, model.tensor_board_callback,\n",
    "                 ProgressCallback(epochs=epochs, train_total=len(train_data), test_total=len(valid_data))]\n",
    "    if learning_rate_scheduler:\n",
    "        callbacks.append(LearningRateScheduler(learning_rate_schedule))\n",
    "    model.fit(train_data,\n",
    "              epochs=epochs,\n",
    "              validation_data=valid_data,\n",
    "              validation_steps=len(valid_data),\n",
    "              verbose=0,\n",
    "              callbacks=callbacks)\n"
   ],
   "metadata": {
    "collapsed": false
   }
  },
  {
   "cell_type": "code",
   "execution_count": null,
   "metadata": {},
   "outputs": [],
   "source": [
    "def learning_rate_schedule(epoch, learning_rate):\n",
    "    new_learning_rate = max(learning_rate * .95, 1e-7)\n",
    "    return new_learning_rate\n",
    "\n",
    "fire_detection_model = get_fire_segmentation_model(loss_function=dice_bce_loss)\n",
    "training_loop(train_data=FireData(batch_size=16, split='train'),\n",
    "              valid_data=FireData(batch_size=16, split='val'),\n",
    "              model=fire_detection_model,\n",
    "              learning_rate=.001,\n",
    "              learning_rate_scheduler=learning_rate_schedule)\n",
    "\n"
   ]
  },
  {
   "cell_type": "code",
   "execution_count": null,
   "metadata": {},
   "outputs": [],
   "source": [
    "%tensorboard --logdir 'Models/UNet Fire Segmentation/logs'"
   ]
  },
  {
   "cell_type": "code",
   "execution_count": null,
   "metadata": {},
   "outputs": [],
   "source": [
    "depth_estimation_model = get_depth_estimation_model(loss_function=depth_loss_function)\n",
    "training_loop(train_data=DistanceData(batch_size=16, split='train', height=512, width=384),\n",
    "              valid_data=DistanceData(batch_size=16, split='val', height=512, width=384),\n",
    "              model=depth_estimation_model,\n",
    "              learning_rate=.001,\n",
    "              learning_rate_scheduler=learning_rate_schedule)"
   ]
  }
 ],
 "metadata": {
  "kernelspec": {
   "display_name": "Python 3 (ipykernel)",
   "language": "python",
   "name": "python3"
  },
  "language_info": {
   "codemirror_mode": {
    "name": "ipython",
    "version": 3
   },
   "file_extension": ".py",
   "mimetype": "text/x-python",
   "name": "python",
   "nbconvert_exporter": "python",
   "pygments_lexer": "ipython3",
   "version": "3.8.15"
  }
 },
 "nbformat": 4,
 "nbformat_minor": 1
}
